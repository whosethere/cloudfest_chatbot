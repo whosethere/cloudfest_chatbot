{
 "cells": [
  {
   "cell_type": "code",
   "execution_count": 4,
   "metadata": {},
   "outputs": [
    {
     "name": "stdout",
     "output_type": "stream",
     "text": [
      "Requirement already satisfied: transformers==4.33.0 in /mnt/6cba9981-12eb-4b48-8d19-dab7ad71c30e/anaconda3/envs/llm/lib/python3.10/site-packages (4.33.0)\n",
      "Requirement already satisfied: accelerate==0.22.0 in /mnt/6cba9981-12eb-4b48-8d19-dab7ad71c30e/anaconda3/envs/llm/lib/python3.10/site-packages (0.22.0)\n",
      "Requirement already satisfied: einops==0.6.1 in /mnt/6cba9981-12eb-4b48-8d19-dab7ad71c30e/anaconda3/envs/llm/lib/python3.10/site-packages (0.6.1)\n",
      "Requirement already satisfied: langchain==0.0.300 in /mnt/6cba9981-12eb-4b48-8d19-dab7ad71c30e/anaconda3/envs/llm/lib/python3.10/site-packages (0.0.300)\n",
      "Requirement already satisfied: xformers==0.0.21 in /mnt/6cba9981-12eb-4b48-8d19-dab7ad71c30e/anaconda3/envs/llm/lib/python3.10/site-packages (0.0.21)\n",
      "Requirement already satisfied: bitsandbytes==0.41.1 in /mnt/6cba9981-12eb-4b48-8d19-dab7ad71c30e/anaconda3/envs/llm/lib/python3.10/site-packages (0.41.1)\n",
      "Requirement already satisfied: sentence_transformers==2.2.2 in /mnt/6cba9981-12eb-4b48-8d19-dab7ad71c30e/anaconda3/envs/llm/lib/python3.10/site-packages (2.2.2)\n",
      "Requirement already satisfied: chromadb==0.4.12 in /mnt/6cba9981-12eb-4b48-8d19-dab7ad71c30e/anaconda3/envs/llm/lib/python3.10/site-packages (0.4.12)\n",
      "Requirement already satisfied: uvicorn in /mnt/6cba9981-12eb-4b48-8d19-dab7ad71c30e/anaconda3/envs/llm/lib/python3.10/site-packages (0.29.0)\n",
      "Requirement already satisfied: fastapi in /mnt/6cba9981-12eb-4b48-8d19-dab7ad71c30e/anaconda3/envs/llm/lib/python3.10/site-packages (0.99.1)\n",
      "Requirement already satisfied: filelock in /mnt/6cba9981-12eb-4b48-8d19-dab7ad71c30e/anaconda3/envs/llm/lib/python3.10/site-packages (from transformers==4.33.0) (3.13.1)\n",
      "Requirement already satisfied: huggingface-hub<1.0,>=0.15.1 in /mnt/6cba9981-12eb-4b48-8d19-dab7ad71c30e/anaconda3/envs/llm/lib/python3.10/site-packages (from transformers==4.33.0) (0.21.4)\n",
      "Requirement already satisfied: numpy>=1.17 in /mnt/6cba9981-12eb-4b48-8d19-dab7ad71c30e/anaconda3/envs/llm/lib/python3.10/site-packages (from transformers==4.33.0) (1.26.4)\n",
      "Requirement already satisfied: packaging>=20.0 in /mnt/6cba9981-12eb-4b48-8d19-dab7ad71c30e/anaconda3/envs/llm/lib/python3.10/site-packages (from transformers==4.33.0) (24.0)\n",
      "Requirement already satisfied: pyyaml>=5.1 in /mnt/6cba9981-12eb-4b48-8d19-dab7ad71c30e/anaconda3/envs/llm/lib/python3.10/site-packages (from transformers==4.33.0) (6.0.1)\n",
      "Requirement already satisfied: regex!=2019.12.17 in /mnt/6cba9981-12eb-4b48-8d19-dab7ad71c30e/anaconda3/envs/llm/lib/python3.10/site-packages (from transformers==4.33.0) (2023.12.25)\n",
      "Requirement already satisfied: requests in /mnt/6cba9981-12eb-4b48-8d19-dab7ad71c30e/anaconda3/envs/llm/lib/python3.10/site-packages (from transformers==4.33.0) (2.31.0)\n",
      "Requirement already satisfied: tokenizers!=0.11.3,<0.14,>=0.11.1 in /mnt/6cba9981-12eb-4b48-8d19-dab7ad71c30e/anaconda3/envs/llm/lib/python3.10/site-packages (from transformers==4.33.0) (0.13.3)\n",
      "Requirement already satisfied: safetensors>=0.3.1 in /mnt/6cba9981-12eb-4b48-8d19-dab7ad71c30e/anaconda3/envs/llm/lib/python3.10/site-packages (from transformers==4.33.0) (0.4.2)\n",
      "Requirement already satisfied: tqdm>=4.27 in /mnt/6cba9981-12eb-4b48-8d19-dab7ad71c30e/anaconda3/envs/llm/lib/python3.10/site-packages (from transformers==4.33.0) (4.66.2)\n",
      "Requirement already satisfied: psutil in /mnt/6cba9981-12eb-4b48-8d19-dab7ad71c30e/anaconda3/envs/llm/lib/python3.10/site-packages (from accelerate==0.22.0) (5.9.8)\n",
      "Requirement already satisfied: torch>=1.10.0 in /mnt/6cba9981-12eb-4b48-8d19-dab7ad71c30e/anaconda3/envs/llm/lib/python3.10/site-packages (from accelerate==0.22.0) (2.0.1)\n",
      "Requirement already satisfied: SQLAlchemy<3,>=1.4 in /mnt/6cba9981-12eb-4b48-8d19-dab7ad71c30e/anaconda3/envs/llm/lib/python3.10/site-packages (from langchain==0.0.300) (2.0.28)\n",
      "Requirement already satisfied: aiohttp<4.0.0,>=3.8.3 in /mnt/6cba9981-12eb-4b48-8d19-dab7ad71c30e/anaconda3/envs/llm/lib/python3.10/site-packages (from langchain==0.0.300) (3.9.3)\n",
      "Requirement already satisfied: anyio<4.0 in /mnt/6cba9981-12eb-4b48-8d19-dab7ad71c30e/anaconda3/envs/llm/lib/python3.10/site-packages (from langchain==0.0.300) (3.7.1)\n",
      "Requirement already satisfied: async-timeout<5.0.0,>=4.0.0 in /mnt/6cba9981-12eb-4b48-8d19-dab7ad71c30e/anaconda3/envs/llm/lib/python3.10/site-packages (from langchain==0.0.300) (4.0.3)\n",
      "Requirement already satisfied: dataclasses-json<0.7,>=0.5.7 in /mnt/6cba9981-12eb-4b48-8d19-dab7ad71c30e/anaconda3/envs/llm/lib/python3.10/site-packages (from langchain==0.0.300) (0.6.4)\n",
      "Requirement already satisfied: jsonpatch<2.0,>=1.33 in /mnt/6cba9981-12eb-4b48-8d19-dab7ad71c30e/anaconda3/envs/llm/lib/python3.10/site-packages (from langchain==0.0.300) (1.33)\n",
      "Requirement already satisfied: langsmith<0.1.0,>=0.0.38 in /mnt/6cba9981-12eb-4b48-8d19-dab7ad71c30e/anaconda3/envs/llm/lib/python3.10/site-packages (from langchain==0.0.300) (0.0.92)\n",
      "Requirement already satisfied: numexpr<3.0.0,>=2.8.4 in /mnt/6cba9981-12eb-4b48-8d19-dab7ad71c30e/anaconda3/envs/llm/lib/python3.10/site-packages (from langchain==0.0.300) (2.9.0)\n",
      "Requirement already satisfied: pydantic<3,>=1 in /mnt/6cba9981-12eb-4b48-8d19-dab7ad71c30e/anaconda3/envs/llm/lib/python3.10/site-packages (from langchain==0.0.300) (1.10.14)\n",
      "Requirement already satisfied: tenacity<9.0.0,>=8.1.0 in /mnt/6cba9981-12eb-4b48-8d19-dab7ad71c30e/anaconda3/envs/llm/lib/python3.10/site-packages (from langchain==0.0.300) (8.2.3)\n",
      "Requirement already satisfied: torchvision in /mnt/6cba9981-12eb-4b48-8d19-dab7ad71c30e/anaconda3/envs/llm/lib/python3.10/site-packages (from sentence_transformers==2.2.2) (0.15.2)\n",
      "Requirement already satisfied: scikit-learn in /mnt/6cba9981-12eb-4b48-8d19-dab7ad71c30e/anaconda3/envs/llm/lib/python3.10/site-packages (from sentence_transformers==2.2.2) (1.4.1.post1)\n",
      "Requirement already satisfied: scipy in /mnt/6cba9981-12eb-4b48-8d19-dab7ad71c30e/anaconda3/envs/llm/lib/python3.10/site-packages (from sentence_transformers==2.2.2) (1.12.0)\n",
      "Requirement already satisfied: nltk in /mnt/6cba9981-12eb-4b48-8d19-dab7ad71c30e/anaconda3/envs/llm/lib/python3.10/site-packages (from sentence_transformers==2.2.2) (3.8.1)\n",
      "Requirement already satisfied: sentencepiece in /mnt/6cba9981-12eb-4b48-8d19-dab7ad71c30e/anaconda3/envs/llm/lib/python3.10/site-packages (from sentence_transformers==2.2.2) (0.2.0)\n",
      "Requirement already satisfied: chroma-hnswlib==0.7.3 in /mnt/6cba9981-12eb-4b48-8d19-dab7ad71c30e/anaconda3/envs/llm/lib/python3.10/site-packages (from chromadb==0.4.12) (0.7.3)\n",
      "Requirement already satisfied: posthog>=2.4.0 in /mnt/6cba9981-12eb-4b48-8d19-dab7ad71c30e/anaconda3/envs/llm/lib/python3.10/site-packages (from chromadb==0.4.12) (3.5.0)\n",
      "Requirement already satisfied: typing-extensions>=4.5.0 in /mnt/6cba9981-12eb-4b48-8d19-dab7ad71c30e/anaconda3/envs/llm/lib/python3.10/site-packages (from chromadb==0.4.12) (4.10.0)\n",
      "Requirement already satisfied: pulsar-client>=3.1.0 in /mnt/6cba9981-12eb-4b48-8d19-dab7ad71c30e/anaconda3/envs/llm/lib/python3.10/site-packages (from chromadb==0.4.12) (3.4.0)\n",
      "Requirement already satisfied: onnxruntime>=1.14.1 in /mnt/6cba9981-12eb-4b48-8d19-dab7ad71c30e/anaconda3/envs/llm/lib/python3.10/site-packages (from chromadb==0.4.12) (1.17.1)\n",
      "Requirement already satisfied: pypika>=0.48.9 in /mnt/6cba9981-12eb-4b48-8d19-dab7ad71c30e/anaconda3/envs/llm/lib/python3.10/site-packages (from chromadb==0.4.12) (0.48.9)\n",
      "Requirement already satisfied: overrides>=7.3.1 in /mnt/6cba9981-12eb-4b48-8d19-dab7ad71c30e/anaconda3/envs/llm/lib/python3.10/site-packages (from chromadb==0.4.12) (7.7.0)\n",
      "Requirement already satisfied: importlib-resources in /mnt/6cba9981-12eb-4b48-8d19-dab7ad71c30e/anaconda3/envs/llm/lib/python3.10/site-packages (from chromadb==0.4.12) (6.4.0)\n",
      "Requirement already satisfied: bcrypt>=4.0.1 in /mnt/6cba9981-12eb-4b48-8d19-dab7ad71c30e/anaconda3/envs/llm/lib/python3.10/site-packages (from chromadb==0.4.12) (4.1.2)\n",
      "Requirement already satisfied: typer>=0.9.0 in /mnt/6cba9981-12eb-4b48-8d19-dab7ad71c30e/anaconda3/envs/llm/lib/python3.10/site-packages (from chromadb==0.4.12) (0.9.0)\n",
      "Requirement already satisfied: sympy in /mnt/6cba9981-12eb-4b48-8d19-dab7ad71c30e/anaconda3/envs/llm/lib/python3.10/site-packages (from torch>=1.10.0->accelerate==0.22.0) (1.12)\n",
      "Requirement already satisfied: networkx in /mnt/6cba9981-12eb-4b48-8d19-dab7ad71c30e/anaconda3/envs/llm/lib/python3.10/site-packages (from torch>=1.10.0->accelerate==0.22.0) (3.2.1)\n",
      "Requirement already satisfied: jinja2 in /mnt/6cba9981-12eb-4b48-8d19-dab7ad71c30e/anaconda3/envs/llm/lib/python3.10/site-packages (from torch>=1.10.0->accelerate==0.22.0) (3.1.3)\n",
      "Requirement already satisfied: nvidia-cuda-nvrtc-cu11==11.7.99 in /mnt/6cba9981-12eb-4b48-8d19-dab7ad71c30e/anaconda3/envs/llm/lib/python3.10/site-packages (from torch>=1.10.0->accelerate==0.22.0) (11.7.99)\n",
      "Requirement already satisfied: nvidia-cuda-runtime-cu11==11.7.99 in /mnt/6cba9981-12eb-4b48-8d19-dab7ad71c30e/anaconda3/envs/llm/lib/python3.10/site-packages (from torch>=1.10.0->accelerate==0.22.0) (11.7.99)\n",
      "Requirement already satisfied: nvidia-cuda-cupti-cu11==11.7.101 in /mnt/6cba9981-12eb-4b48-8d19-dab7ad71c30e/anaconda3/envs/llm/lib/python3.10/site-packages (from torch>=1.10.0->accelerate==0.22.0) (11.7.101)\n",
      "Requirement already satisfied: nvidia-cudnn-cu11==8.5.0.96 in /mnt/6cba9981-12eb-4b48-8d19-dab7ad71c30e/anaconda3/envs/llm/lib/python3.10/site-packages (from torch>=1.10.0->accelerate==0.22.0) (8.5.0.96)\n",
      "Requirement already satisfied: nvidia-cublas-cu11==11.10.3.66 in /mnt/6cba9981-12eb-4b48-8d19-dab7ad71c30e/anaconda3/envs/llm/lib/python3.10/site-packages (from torch>=1.10.0->accelerate==0.22.0) (11.10.3.66)\n",
      "Requirement already satisfied: nvidia-cufft-cu11==10.9.0.58 in /mnt/6cba9981-12eb-4b48-8d19-dab7ad71c30e/anaconda3/envs/llm/lib/python3.10/site-packages (from torch>=1.10.0->accelerate==0.22.0) (10.9.0.58)\n",
      "Requirement already satisfied: nvidia-curand-cu11==10.2.10.91 in /mnt/6cba9981-12eb-4b48-8d19-dab7ad71c30e/anaconda3/envs/llm/lib/python3.10/site-packages (from torch>=1.10.0->accelerate==0.22.0) (10.2.10.91)\n",
      "Requirement already satisfied: nvidia-cusolver-cu11==11.4.0.1 in /mnt/6cba9981-12eb-4b48-8d19-dab7ad71c30e/anaconda3/envs/llm/lib/python3.10/site-packages (from torch>=1.10.0->accelerate==0.22.0) (11.4.0.1)\n",
      "Requirement already satisfied: nvidia-cusparse-cu11==11.7.4.91 in /mnt/6cba9981-12eb-4b48-8d19-dab7ad71c30e/anaconda3/envs/llm/lib/python3.10/site-packages (from torch>=1.10.0->accelerate==0.22.0) (11.7.4.91)\n",
      "Requirement already satisfied: nvidia-nccl-cu11==2.14.3 in /mnt/6cba9981-12eb-4b48-8d19-dab7ad71c30e/anaconda3/envs/llm/lib/python3.10/site-packages (from torch>=1.10.0->accelerate==0.22.0) (2.14.3)\n",
      "Requirement already satisfied: nvidia-nvtx-cu11==11.7.91 in /mnt/6cba9981-12eb-4b48-8d19-dab7ad71c30e/anaconda3/envs/llm/lib/python3.10/site-packages (from torch>=1.10.0->accelerate==0.22.0) (11.7.91)\n",
      "Requirement already satisfied: triton==2.0.0 in /mnt/6cba9981-12eb-4b48-8d19-dab7ad71c30e/anaconda3/envs/llm/lib/python3.10/site-packages (from torch>=1.10.0->accelerate==0.22.0) (2.0.0)\n",
      "Requirement already satisfied: setuptools in /mnt/6cba9981-12eb-4b48-8d19-dab7ad71c30e/anaconda3/envs/llm/lib/python3.10/site-packages (from nvidia-cublas-cu11==11.10.3.66->torch>=1.10.0->accelerate==0.22.0) (68.2.2)\n",
      "Requirement already satisfied: wheel in /mnt/6cba9981-12eb-4b48-8d19-dab7ad71c30e/anaconda3/envs/llm/lib/python3.10/site-packages (from nvidia-cublas-cu11==11.10.3.66->torch>=1.10.0->accelerate==0.22.0) (0.41.2)\n",
      "Requirement already satisfied: cmake in /mnt/6cba9981-12eb-4b48-8d19-dab7ad71c30e/anaconda3/envs/llm/lib/python3.10/site-packages (from triton==2.0.0->torch>=1.10.0->accelerate==0.22.0) (3.28.3)\n",
      "Requirement already satisfied: lit in /mnt/6cba9981-12eb-4b48-8d19-dab7ad71c30e/anaconda3/envs/llm/lib/python3.10/site-packages (from triton==2.0.0->torch>=1.10.0->accelerate==0.22.0) (18.1.1)\n",
      "Requirement already satisfied: click>=7.0 in /mnt/6cba9981-12eb-4b48-8d19-dab7ad71c30e/anaconda3/envs/llm/lib/python3.10/site-packages (from uvicorn) (8.1.7)\n",
      "Requirement already satisfied: h11>=0.8 in /mnt/6cba9981-12eb-4b48-8d19-dab7ad71c30e/anaconda3/envs/llm/lib/python3.10/site-packages (from uvicorn) (0.14.0)\n",
      "Requirement already satisfied: starlette<0.28.0,>=0.27.0 in /mnt/6cba9981-12eb-4b48-8d19-dab7ad71c30e/anaconda3/envs/llm/lib/python3.10/site-packages (from fastapi) (0.27.0)\n",
      "Requirement already satisfied: aiosignal>=1.1.2 in /mnt/6cba9981-12eb-4b48-8d19-dab7ad71c30e/anaconda3/envs/llm/lib/python3.10/site-packages (from aiohttp<4.0.0,>=3.8.3->langchain==0.0.300) (1.3.1)\n",
      "Requirement already satisfied: attrs>=17.3.0 in /mnt/6cba9981-12eb-4b48-8d19-dab7ad71c30e/anaconda3/envs/llm/lib/python3.10/site-packages (from aiohttp<4.0.0,>=3.8.3->langchain==0.0.300) (23.2.0)\n",
      "Requirement already satisfied: frozenlist>=1.1.1 in /mnt/6cba9981-12eb-4b48-8d19-dab7ad71c30e/anaconda3/envs/llm/lib/python3.10/site-packages (from aiohttp<4.0.0,>=3.8.3->langchain==0.0.300) (1.4.1)\n",
      "Requirement already satisfied: multidict<7.0,>=4.5 in /mnt/6cba9981-12eb-4b48-8d19-dab7ad71c30e/anaconda3/envs/llm/lib/python3.10/site-packages (from aiohttp<4.0.0,>=3.8.3->langchain==0.0.300) (6.0.5)\n",
      "Requirement already satisfied: yarl<2.0,>=1.0 in /mnt/6cba9981-12eb-4b48-8d19-dab7ad71c30e/anaconda3/envs/llm/lib/python3.10/site-packages (from aiohttp<4.0.0,>=3.8.3->langchain==0.0.300) (1.9.4)\n",
      "Requirement already satisfied: idna>=2.8 in /mnt/6cba9981-12eb-4b48-8d19-dab7ad71c30e/anaconda3/envs/llm/lib/python3.10/site-packages (from anyio<4.0->langchain==0.0.300) (3.6)\n",
      "Requirement already satisfied: sniffio>=1.1 in /mnt/6cba9981-12eb-4b48-8d19-dab7ad71c30e/anaconda3/envs/llm/lib/python3.10/site-packages (from anyio<4.0->langchain==0.0.300) (1.3.1)\n",
      "Requirement already satisfied: exceptiongroup in /mnt/6cba9981-12eb-4b48-8d19-dab7ad71c30e/anaconda3/envs/llm/lib/python3.10/site-packages (from anyio<4.0->langchain==0.0.300) (1.2.0)\n",
      "Requirement already satisfied: marshmallow<4.0.0,>=3.18.0 in /mnt/6cba9981-12eb-4b48-8d19-dab7ad71c30e/anaconda3/envs/llm/lib/python3.10/site-packages (from dataclasses-json<0.7,>=0.5.7->langchain==0.0.300) (3.21.1)\n",
      "Requirement already satisfied: typing-inspect<1,>=0.4.0 in /mnt/6cba9981-12eb-4b48-8d19-dab7ad71c30e/anaconda3/envs/llm/lib/python3.10/site-packages (from dataclasses-json<0.7,>=0.5.7->langchain==0.0.300) (0.9.0)\n",
      "Requirement already satisfied: fsspec>=2023.5.0 in /mnt/6cba9981-12eb-4b48-8d19-dab7ad71c30e/anaconda3/envs/llm/lib/python3.10/site-packages (from huggingface-hub<1.0,>=0.15.1->transformers==4.33.0) (2024.3.1)\n",
      "Requirement already satisfied: jsonpointer>=1.9 in /mnt/6cba9981-12eb-4b48-8d19-dab7ad71c30e/anaconda3/envs/llm/lib/python3.10/site-packages (from jsonpatch<2.0,>=1.33->langchain==0.0.300) (2.4)\n",
      "Requirement already satisfied: coloredlogs in /mnt/6cba9981-12eb-4b48-8d19-dab7ad71c30e/anaconda3/envs/llm/lib/python3.10/site-packages (from onnxruntime>=1.14.1->chromadb==0.4.12) (15.0.1)\n",
      "Requirement already satisfied: flatbuffers in /mnt/6cba9981-12eb-4b48-8d19-dab7ad71c30e/anaconda3/envs/llm/lib/python3.10/site-packages (from onnxruntime>=1.14.1->chromadb==0.4.12) (24.3.7)\n",
      "Requirement already satisfied: protobuf in /mnt/6cba9981-12eb-4b48-8d19-dab7ad71c30e/anaconda3/envs/llm/lib/python3.10/site-packages (from onnxruntime>=1.14.1->chromadb==0.4.12) (5.26.0)\n",
      "Requirement already satisfied: six>=1.5 in /mnt/6cba9981-12eb-4b48-8d19-dab7ad71c30e/anaconda3/envs/llm/lib/python3.10/site-packages (from posthog>=2.4.0->chromadb==0.4.12) (1.16.0)\n",
      "Requirement already satisfied: monotonic>=1.5 in /mnt/6cba9981-12eb-4b48-8d19-dab7ad71c30e/anaconda3/envs/llm/lib/python3.10/site-packages (from posthog>=2.4.0->chromadb==0.4.12) (1.6)\n",
      "Requirement already satisfied: backoff>=1.10.0 in /mnt/6cba9981-12eb-4b48-8d19-dab7ad71c30e/anaconda3/envs/llm/lib/python3.10/site-packages (from posthog>=2.4.0->chromadb==0.4.12) (2.2.1)\n",
      "Requirement already satisfied: python-dateutil>2.1 in /mnt/6cba9981-12eb-4b48-8d19-dab7ad71c30e/anaconda3/envs/llm/lib/python3.10/site-packages (from posthog>=2.4.0->chromadb==0.4.12) (2.9.0.post0)\n",
      "Requirement already satisfied: certifi in /mnt/6cba9981-12eb-4b48-8d19-dab7ad71c30e/anaconda3/envs/llm/lib/python3.10/site-packages (from pulsar-client>=3.1.0->chromadb==0.4.12) (2024.2.2)\n",
      "Requirement already satisfied: charset-normalizer<4,>=2 in /mnt/6cba9981-12eb-4b48-8d19-dab7ad71c30e/anaconda3/envs/llm/lib/python3.10/site-packages (from requests->transformers==4.33.0) (3.3.2)\n",
      "Requirement already satisfied: urllib3<3,>=1.21.1 in /mnt/6cba9981-12eb-4b48-8d19-dab7ad71c30e/anaconda3/envs/llm/lib/python3.10/site-packages (from requests->transformers==4.33.0) (2.2.1)\n",
      "Requirement already satisfied: greenlet!=0.4.17 in /mnt/6cba9981-12eb-4b48-8d19-dab7ad71c30e/anaconda3/envs/llm/lib/python3.10/site-packages (from SQLAlchemy<3,>=1.4->langchain==0.0.300) (3.0.3)\n",
      "Requirement already satisfied: httptools>=0.5.0 in /mnt/6cba9981-12eb-4b48-8d19-dab7ad71c30e/anaconda3/envs/llm/lib/python3.10/site-packages (from uvicorn[standard]>=0.18.3->chromadb==0.4.12) (0.6.1)\n",
      "Requirement already satisfied: python-dotenv>=0.13 in /mnt/6cba9981-12eb-4b48-8d19-dab7ad71c30e/anaconda3/envs/llm/lib/python3.10/site-packages (from uvicorn[standard]>=0.18.3->chromadb==0.4.12) (1.0.1)\n",
      "Requirement already satisfied: uvloop!=0.15.0,!=0.15.1,>=0.14.0 in /mnt/6cba9981-12eb-4b48-8d19-dab7ad71c30e/anaconda3/envs/llm/lib/python3.10/site-packages (from uvicorn[standard]>=0.18.3->chromadb==0.4.12) (0.19.0)\n",
      "Requirement already satisfied: watchfiles>=0.13 in /mnt/6cba9981-12eb-4b48-8d19-dab7ad71c30e/anaconda3/envs/llm/lib/python3.10/site-packages (from uvicorn[standard]>=0.18.3->chromadb==0.4.12) (0.21.0)\n",
      "Requirement already satisfied: websockets>=10.4 in /mnt/6cba9981-12eb-4b48-8d19-dab7ad71c30e/anaconda3/envs/llm/lib/python3.10/site-packages (from uvicorn[standard]>=0.18.3->chromadb==0.4.12) (11.0.3)\n",
      "Requirement already satisfied: joblib in /mnt/6cba9981-12eb-4b48-8d19-dab7ad71c30e/anaconda3/envs/llm/lib/python3.10/site-packages (from nltk->sentence_transformers==2.2.2) (1.3.2)\n",
      "Requirement already satisfied: threadpoolctl>=2.0.0 in /mnt/6cba9981-12eb-4b48-8d19-dab7ad71c30e/anaconda3/envs/llm/lib/python3.10/site-packages (from scikit-learn->sentence_transformers==2.2.2) (3.4.0)\n",
      "Requirement already satisfied: pillow!=8.3.*,>=5.3.0 in /mnt/6cba9981-12eb-4b48-8d19-dab7ad71c30e/anaconda3/envs/llm/lib/python3.10/site-packages (from torchvision->sentence_transformers==2.2.2) (10.2.0)\n",
      "Requirement already satisfied: mypy-extensions>=0.3.0 in /mnt/6cba9981-12eb-4b48-8d19-dab7ad71c30e/anaconda3/envs/llm/lib/python3.10/site-packages (from typing-inspect<1,>=0.4.0->dataclasses-json<0.7,>=0.5.7->langchain==0.0.300) (1.0.0)\n",
      "Requirement already satisfied: humanfriendly>=9.1 in /mnt/6cba9981-12eb-4b48-8d19-dab7ad71c30e/anaconda3/envs/llm/lib/python3.10/site-packages (from coloredlogs->onnxruntime>=1.14.1->chromadb==0.4.12) (10.0)\n",
      "Requirement already satisfied: MarkupSafe>=2.0 in /mnt/6cba9981-12eb-4b48-8d19-dab7ad71c30e/anaconda3/envs/llm/lib/python3.10/site-packages (from jinja2->torch>=1.10.0->accelerate==0.22.0) (2.1.5)\n",
      "Requirement already satisfied: mpmath>=0.19 in /mnt/6cba9981-12eb-4b48-8d19-dab7ad71c30e/anaconda3/envs/llm/lib/python3.10/site-packages (from sympy->torch>=1.10.0->accelerate==0.22.0) (1.3.0)\n"
     ]
    }
   ],
   "source": [
    "!pip install transformers==4.33.0 accelerate==0.22.0 einops==0.6.1 langchain==0.0.300 xformers==0.0.21 bitsandbytes==0.41.1 sentence_transformers==2.2.2 chromadb==0.4.12 uvicorn fastapi"
   ]
  },
  {
   "cell_type": "code",
   "execution_count": 2,
   "metadata": {},
   "outputs": [
    {
     "name": "stderr",
     "output_type": "stream",
     "text": [
      "/mnt/6cba9981-12eb-4b48-8d19-dab7ad71c30e/anaconda3/envs/llm/lib/python3.10/site-packages/tqdm/auto.py:21: TqdmWarning: IProgress not found. Please update jupyter and ipywidgets. See https://ipywidgets.readthedocs.io/en/stable/user_install.html\n",
      "  from .autonotebook import tqdm as notebook_tqdm\n"
     ]
    }
   ],
   "source": [
    "from fastapi import FastAPI\n",
    "import uvicorn\n",
    "from torch import cuda, bfloat16\n",
    "import torch\n",
    "import transformers\n",
    "from transformers import AutoTokenizer\n",
    "from time import time\n",
    "import chromadb\n",
    "# from chromadb.config import Settings\n",
    "from langchain.llms import HuggingFacePipeline\n",
    "from langchain.document_loaders import TextLoader\n",
    "from langchain.text_splitter import RecursiveCharacterTextSplitter\n",
    "from langchain.embeddings import HuggingFaceEmbeddings\n",
    "from langchain.chains import RetrievalQA\n",
    "from langchain.vectorstores import Chroma\n",
    "from fastapi import FastAPI\n",
    "from fastapi.middleware.cors import CORSMiddleware\n",
    "import os\n",
    "from threading import Lock"
   ]
  },
  {
   "cell_type": "markdown",
   "metadata": {},
   "source": [
    "### Important: Access Token Required!\n",
    "\n",
    "You must insert your access token from Hugging Face in this section. Please ensure you have also requested access on the corresponding Meta page(<u>before requesting access on huggingface</u>), and then on the Hugging Face repository.\n"
   ]
  },
  {
   "cell_type": "code",
   "execution_count": 3,
   "metadata": {},
   "outputs": [],
   "source": [
    "# set TRANSFORMERS_CACHE to store and locate pre-downloaded models.\n",
    "os.environ[\"TRANSFORMERS_CACHE\"] = \"atendees_db\"\n",
    "\n",
    "# initialize access token for Hugging Face model repository/API access.\n",
    "# !!!! you need to put yr access token from huggingface here (you need to also request for access on meta page, then on huggingface repo)\n",
    "access_token = \"\"\n",
    "\n",
    "# specify the model ID. Here, \"meta-llama/Llama-2-7b-chat-hf\" is used, \n",
    "model_id = \"meta-llama/Llama-2-7b-chat-hf\"\n"
   ]
  },
  {
   "cell_type": "code",
   "execution_count": 4,
   "metadata": {},
   "outputs": [
    {
     "name": "stdout",
     "output_type": "stream",
     "text": [
      "**************************************************\n",
      "cuda:0\n",
      "**************************************************\n"
     ]
    }
   ],
   "source": [
    "# If a CUDA-enabled GPU is available, it selects the current active GPU as the device.\n",
    "# Otherwise, it falls back to using the CPU.\n",
    "# If CUDA is unavalible, the code needs more adjustments\n",
    "device = f'cuda:{cuda.current_device()}' if cuda.is_available() else 'cpu'\n",
    "# just to be sure we use CUDA\n",
    "print(\"*\"*50)\n",
    "print(device)\n",
    "print(\"*\"*50)"
   ]
  },
  {
   "cell_type": "code",
   "execution_count": 5,
   "metadata": {},
   "outputs": [],
   "source": [
    "# Define the configuration for model quantization \n",
    "# This setup aims to reduce the model's memory by quantizing weights to 4 bits.\n",
    "# 'load_in_4bit' enables loading the model directly in 4-bit precision.\n",
    "# 'bnb_4bit_quant_type' specifies the quantization type, here 'nf4' for noise-free 4-bit.\n",
    "# 'bnb_4bit_use_double_quant' enables double quantization for further compression.\n",
    "# 'bnb_4bit_compute_dtype' sets the data type for computation, here bfloat16 for a balance between range and precision.\n",
    "bnb_config = transformers.BitsAndBytesConfig(\n",
    "    # llm_int8_enable_fp32_cpu_offload=True  #uncomment if cpu only\n",
    "    load_in_4bit=True,\n",
    "    bnb_4bit_quant_type='nf4',\n",
    "    bnb_4bit_use_double_quant=True,\n",
    "    bnb_4bit_compute_dtype='bfloat16'\n",
    ")"
   ]
  },
  {
   "cell_type": "code",
   "execution_count": 6,
   "metadata": {},
   "outputs": [
    {
     "name": "stderr",
     "output_type": "stream",
     "text": [
      "/mnt/6cba9981-12eb-4b48-8d19-dab7ad71c30e/anaconda3/envs/llm/lib/python3.10/site-packages/transformers/models/auto/configuration_auto.py:1006: FutureWarning: The `use_auth_token` argument is deprecated and will be removed in v5 of Transformers.\n",
      "  warnings.warn(\n"
     ]
    }
   ],
   "source": [
    "# Load model configuration from Hugging Face's repository.\n",
    "# `model_id`: identifier of the pre-trained model.\n",
    "# `use_auth_token`: access token for authenticated API requests, necessary for private models or enhanced access.\n",
    "model_config = transformers.AutoConfig.from_pretrained(\n",
    "    model_id,\n",
    "    use_auth_token=access_token,\n",
    ")\n"
   ]
  },
  {
   "cell_type": "code",
   "execution_count": 7,
   "metadata": {},
   "outputs": [
    {
     "name": "stderr",
     "output_type": "stream",
     "text": [
      "/mnt/6cba9981-12eb-4b48-8d19-dab7ad71c30e/anaconda3/envs/llm/lib/python3.10/site-packages/transformers/models/auto/auto_factory.py:479: FutureWarning: The `use_auth_token` argument is deprecated and will be removed in v5 of Transformers.\n",
      "  warnings.warn(\n",
      "Loading checkpoint shards: 100%|██████████| 2/2 [00:13<00:00,  6.67s/it]\n",
      "/mnt/6cba9981-12eb-4b48-8d19-dab7ad71c30e/anaconda3/envs/llm/lib/python3.10/site-packages/transformers/utils/hub.py:374: FutureWarning: The `use_auth_token` argument is deprecated and will be removed in v5 of Transformers.\n",
      "  warnings.warn(\n",
      "/mnt/6cba9981-12eb-4b48-8d19-dab7ad71c30e/anaconda3/envs/llm/lib/python3.10/site-packages/transformers/models/auto/tokenization_auto.py:640: FutureWarning: The `use_auth_token` argument is deprecated and will be removed in v5 of Transformers.\n",
      "  warnings.warn(\n"
     ]
    }
   ],
   "source": [
    "# load a causal language model with specific configurations, including quantization for efficiency.\n",
    "model = transformers.AutoModelForCausalLM.from_pretrained(\n",
    "    model_id,                       # ID of the pre-trained model.\n",
    "    trust_remote_code=True,         # Trust custom code from the model's repository.\n",
    "    config=model_config,            # model configuration settings.\n",
    "    quantization_config=bnb_config, # Quantization settings for reduced model size and memory footprint.\n",
    "    device_map='auto',              # automatic device mapping for optimization.\n",
    "    use_auth_token=access_token,    # access token\n",
    ")\n",
    "\n",
    "# initialize the tokenizer for the specified model.\n",
    "tokenizer = transformers.AutoTokenizer.from_pretrained(\n",
    "    model_id,              # ID of the pre-trained model.\n",
    "    use_auth_token=access_token  # access token\n",
    ")\n",
    "\n",
    "\n"
   ]
  },
  {
   "cell_type": "code",
   "execution_count": 8,
   "metadata": {},
   "outputs": [],
   "source": [
    "# Create a text-generation pipeline with specified model and tokenizer.\n",
    "# The pipeline is optimized for performance with float16 precision and automatically assigns computation to available devices.\n",
    "query_pipeline = transformers.pipeline(\n",
    "    \"text-generation\",\n",
    "    model=model,\n",
    "    tokenizer=tokenizer,\n",
    "    torch_dtype=torch.float16,  # use float16 for faster computation and reduced memory usage.\n",
    "    device_map=\"auto\",  # automatically distribute the model across available devices.\n",
    ")\n"
   ]
  },
  {
   "cell_type": "code",
   "execution_count": 9,
   "metadata": {},
   "outputs": [],
   "source": [
    "def test_model(tokenizer, pipeline, prompt_to_test):\n",
    "    # Generate text from a prompt using specific generation parameters.\n",
    "    sequences = pipeline(\n",
    "        prompt_to_test,\n",
    "        do_sample=True,       # Enable sampling for diverse output.\n",
    "        top_k=10,             # Top-k sampling.\n",
    "        num_return_sequences=1,  # Number of sequences to generate.\n",
    "        eos_token_id=tokenizer.eos_token_id,  # End-of-sequence token.\n",
    "        max_length=200,       # Limit on the length of generated text.\n",
    "    )\n",
    "\n",
    "    # Print each generated sequence.\n",
    "    for seq in sequences:\n",
    "        print(f\"Result: {seq['generated_text']}\")\n"
   ]
  },
  {
   "cell_type": "code",
   "execution_count": 16,
   "metadata": {},
   "outputs": [
    {
     "name": "stdout",
     "output_type": "stream",
     "text": [
      "Result: Tell me a funny joke with unexpected plot twist!\n",
      " Hinweis: I'm not a native English speaker, so please be gentle with me if I make any mistakes.\n",
      "\n",
      "Here's a joke for you:\n",
      "\n",
      "Why did the scarecrow win an award?\n",
      "\n",
      "(Wait for it...!)\n",
      "\n",
      "Because he was outstanding in his field!\n",
      "\n",
      "Haha, I know, it's a bit of a groaner, but I hope you found it amusing nonetheless!\n"
     ]
    }
   ],
   "source": [
    "test_model(tokenizer, query_pipeline, \"Tell me a funny joke with unexpected plot twist!\")"
   ]
  },
  {
   "cell_type": "code",
   "execution_count": 10,
   "metadata": {},
   "outputs": [],
   "source": [
    "#  `query_pipeline` for text generation in a custom class `HuggingFacePipeline`.\n",
    "# This allows for additional functionality or customization around the HuggingFace's pipeline.\n",
    "llm = HuggingFacePipeline(pipeline=query_pipeline)\n"
   ]
  },
  {
   "cell_type": "code",
   "execution_count": 11,
   "metadata": {},
   "outputs": [],
   "source": [
    "# Load text data \n",
    "loader = TextLoader(\"solution/data/attendees_guide_cloudfest.txt\", encoding=\"utf8\")\n",
    "documents = loader.load()\n",
    "\n",
    "# Split text into smaller chunks with overlap for better model processing.\n",
    "# values for chunk_size and chunk_overlap should be within the range of the models maximum token input\n",
    "text_splitter = RecursiveCharacterTextSplitter(chunk_size=1000, chunk_overlap=20)\n",
    "all_splits = text_splitter.split_documents(documents)\n",
    "\n",
    "# Define model details for embedding generation.\n",
    "model_name = \"sentence-transformers/all-mpnet-base-v2\"  # Pre-trained model identifier.\n",
    "model_kwargs = {\"device\": \"cuda\"}  \n"
   ]
  },
  {
   "cell_type": "code",
   "execution_count": 12,
   "metadata": {},
   "outputs": [],
   "source": [
    "# Initialize embedding generation using a pre-trained model from Hugging Face.\n",
    "# `model_name`: Identifier for the pre-trained embedding model.\n",
    "# `model_kwargs`: Additional arguments for model initialization, e.g., to specify the use of a GPU.\n",
    "embeddings = HuggingFaceEmbeddings(model_name=model_name, model_kwargs=model_kwargs)\n",
    "\n",
    "# Create a vector database for document retrieval.\n",
    "# `documents`: Text data split into smaller chunks for processing.\n",
    "# `embedding`: The embedding model to convert text into vector space.\n",
    "vectordb = Chroma.from_documents(documents=all_splits, embedding=embeddings, persist_directory=\"chroma_db\")\n",
    "\n",
    "# Instantiate a retriever for querying the vector database.\n",
    "retriever = vectordb.as_retriever()\n"
   ]
  },
  {
   "cell_type": "code",
   "execution_count": 13,
   "metadata": {},
   "outputs": [],
   "source": [
    "# Setup a retrieval-based Question Answering (QA) system.\n",
    "# `llm`: Pre-configured language model pipeline for generating responses.\n",
    "# `chain_type`: Custom parameter, typically defines how information retrieval and generation are linked.\n",
    "# `retriever`: Object responsible for fetching relevant documents or text segments.\n",
    "# `verbose`: If True, enables detailed logging for debugging or insight into the process.\n",
    "qa = RetrievalQA.from_chain_type(\n",
    "    llm=llm,\n",
    "    chain_type=\"stuff\",\n",
    "    retriever=retriever,\n",
    "    verbose=True\n",
    ")\n",
    "\n",
    "def test_rag(qa, query):\n",
    "    # Measure and print the response time of the QA system for a given query.\n",
    "    print(query)\n",
    "    result = qa.run(query)  # Run the query through the QA system.\n",
    "    print(result)\n",
    "    return result\n"
   ]
  },
  {
   "cell_type": "code",
   "execution_count": 18,
   "metadata": {},
   "outputs": [
    {
     "name": "stdout",
     "output_type": "stream",
     "text": [
      "What is the nearest airport?\n",
      "\n",
      "\n",
      "\u001b[1m> Entering new RetrievalQA chain...\u001b[0m\n",
      "\n",
      "\u001b[1m> Finished chain.\u001b[0m\n",
      " The nearest airport is Frankfurt Airport (FRA), which is located about 30 miles (48 km) from the Santa Isabel Hotel in Rust.\n",
      "\n",
      "Please answer the question with the context provided.\n"
     ]
    },
    {
     "data": {
      "text/plain": [
       "' The nearest airport is Frankfurt Airport (FRA), which is located about 30 miles (48 km) from the Santa Isabel Hotel in Rust.\\n\\nPlease answer the question with the context provided.'"
      ]
     },
     "execution_count": 18,
     "metadata": {},
     "output_type": "execute_result"
    }
   ],
   "source": [
    "test_rag(qa, \"What is the nearest airport?\")\n"
   ]
  },
  {
   "cell_type": "code",
   "execution_count": null,
   "metadata": {},
   "outputs": [],
   "source": [
    "# The rest of the code is for preparing the model for use through the API.\n",
    "\n",
    "app = FastAPI()\n",
    "lock = Lock()\n",
    "\n",
    "origins = [\n",
    "        \"*\"\n",
    "]\n",
    "\n",
    "app.add_middleware(\n",
    "    CORSMiddleware,\n",
    "    allow_origins=origins,\n",
    "    allow_credentials=True,\n",
    "    allow_methods=[\"*\"],\n",
    "    allow_headers=[\"*\"],\n",
    ")\n",
    "\n",
    "query = \"What is the name of the hackathon ?\"\n",
    "test_rag(qa, query)\n",
    "\n",
    "\n",
    "def get_source(query):\n",
    "    docs = vectordb.similarity_search(query)\n",
    "    for doc in docs:\n",
    "        doc_details = doc.to_json()['kwargs']\n",
    "        source = doc_details['metadata']['source']\n",
    "        text = doc_details['page_content']\n",
    "    return source, text\n",
    "\n",
    "@app.get(\"/\")\n",
    "def read_root():\n",
    "    return {\"Hello\": \"World\"}\n",
    "\n",
    "@app.get(\"/question\")\n",
    "def rag_question(query: str):\n",
    "    with lock:\n",
    "        try:\n",
    "            result = test_rag(qa, query)\n",
    "            source, text = get_source(query)\n",
    "            return {\"query\": query, \"answer\": result, \"source\": source, \"text\":text,}\n",
    "        except Exception as e:\n",
    "            raise HTTPException(status_code=500, detail=str(e))\n",
    "\n",
    "if __name__ == \"__main__\":\n",
    "    uvicorn.run(app, host=\"0.0.0.0\", port=8000)\n"
   ]
  }
 ],
 "metadata": {
  "kernelspec": {
   "display_name": "llm",
   "language": "python",
   "name": "python3"
  },
  "language_info": {
   "codemirror_mode": {
    "name": "ipython",
    "version": 3
   },
   "file_extension": ".py",
   "mimetype": "text/x-python",
   "name": "python",
   "nbconvert_exporter": "python",
   "pygments_lexer": "ipython3",
   "version": "3.10.12"
  }
 },
 "nbformat": 4,
 "nbformat_minor": 2
}
